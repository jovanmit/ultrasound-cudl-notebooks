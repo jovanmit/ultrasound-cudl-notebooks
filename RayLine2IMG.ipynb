{
 "cells": [
  {
   "cell_type": "markdown",
   "metadata": {},
   "source": [
    "<h1> Ray line to Image Line </h1>"
   ]
  },
  {
   "cell_type": "markdown",
   "metadata": {},
   "source": [
    "First import the libraries:"
   ]
  },
  {
   "cell_type": "code",
   "execution_count": 1,
   "metadata": {
    "ExecuteTime": {
     "end_time": "2020-05-28T01:55:31.027150Z",
     "start_time": "2020-05-28T01:55:18.326420Z"
    }
   },
   "outputs": [
    {
     "name": "stderr",
     "output_type": "stream",
     "text": [
      "Using TensorFlow backend.\n",
      "/home/hero/anaconda3/lib/python3.7/site-packages/tensorflow/python/framework/dtypes.py:516: FutureWarning: Passing (type, 1) or '1type' as a synonym of type is deprecated; in a future version of numpy, it will be understood as (type, (1,)) / '(1,)type'.\n",
      "  _np_qint8 = np.dtype([(\"qint8\", np.int8, 1)])\n",
      "/home/hero/anaconda3/lib/python3.7/site-packages/tensorflow/python/framework/dtypes.py:517: FutureWarning: Passing (type, 1) or '1type' as a synonym of type is deprecated; in a future version of numpy, it will be understood as (type, (1,)) / '(1,)type'.\n",
      "  _np_quint8 = np.dtype([(\"quint8\", np.uint8, 1)])\n",
      "/home/hero/anaconda3/lib/python3.7/site-packages/tensorflow/python/framework/dtypes.py:518: FutureWarning: Passing (type, 1) or '1type' as a synonym of type is deprecated; in a future version of numpy, it will be understood as (type, (1,)) / '(1,)type'.\n",
      "  _np_qint16 = np.dtype([(\"qint16\", np.int16, 1)])\n",
      "/home/hero/anaconda3/lib/python3.7/site-packages/tensorflow/python/framework/dtypes.py:519: FutureWarning: Passing (type, 1) or '1type' as a synonym of type is deprecated; in a future version of numpy, it will be understood as (type, (1,)) / '(1,)type'.\n",
      "  _np_quint16 = np.dtype([(\"quint16\", np.uint16, 1)])\n",
      "/home/hero/anaconda3/lib/python3.7/site-packages/tensorflow/python/framework/dtypes.py:520: FutureWarning: Passing (type, 1) or '1type' as a synonym of type is deprecated; in a future version of numpy, it will be understood as (type, (1,)) / '(1,)type'.\n",
      "  _np_qint32 = np.dtype([(\"qint32\", np.int32, 1)])\n",
      "/home/hero/anaconda3/lib/python3.7/site-packages/tensorflow/python/framework/dtypes.py:525: FutureWarning: Passing (type, 1) or '1type' as a synonym of type is deprecated; in a future version of numpy, it will be understood as (type, (1,)) / '(1,)type'.\n",
      "  np_resource = np.dtype([(\"resource\", np.ubyte, 1)])\n",
      "/home/hero/anaconda3/lib/python3.7/site-packages/tensorboard/compat/tensorflow_stub/dtypes.py:541: FutureWarning: Passing (type, 1) or '1type' as a synonym of type is deprecated; in a future version of numpy, it will be understood as (type, (1,)) / '(1,)type'.\n",
      "  _np_qint8 = np.dtype([(\"qint8\", np.int8, 1)])\n",
      "/home/hero/anaconda3/lib/python3.7/site-packages/tensorboard/compat/tensorflow_stub/dtypes.py:542: FutureWarning: Passing (type, 1) or '1type' as a synonym of type is deprecated; in a future version of numpy, it will be understood as (type, (1,)) / '(1,)type'.\n",
      "  _np_quint8 = np.dtype([(\"quint8\", np.uint8, 1)])\n",
      "/home/hero/anaconda3/lib/python3.7/site-packages/tensorboard/compat/tensorflow_stub/dtypes.py:543: FutureWarning: Passing (type, 1) or '1type' as a synonym of type is deprecated; in a future version of numpy, it will be understood as (type, (1,)) / '(1,)type'.\n",
      "  _np_qint16 = np.dtype([(\"qint16\", np.int16, 1)])\n",
      "/home/hero/anaconda3/lib/python3.7/site-packages/tensorboard/compat/tensorflow_stub/dtypes.py:544: FutureWarning: Passing (type, 1) or '1type' as a synonym of type is deprecated; in a future version of numpy, it will be understood as (type, (1,)) / '(1,)type'.\n",
      "  _np_quint16 = np.dtype([(\"quint16\", np.uint16, 1)])\n",
      "/home/hero/anaconda3/lib/python3.7/site-packages/tensorboard/compat/tensorflow_stub/dtypes.py:545: FutureWarning: Passing (type, 1) or '1type' as a synonym of type is deprecated; in a future version of numpy, it will be understood as (type, (1,)) / '(1,)type'.\n",
      "  _np_qint32 = np.dtype([(\"qint32\", np.int32, 1)])\n",
      "/home/hero/anaconda3/lib/python3.7/site-packages/tensorboard/compat/tensorflow_stub/dtypes.py:550: FutureWarning: Passing (type, 1) or '1type' as a synonym of type is deprecated; in a future version of numpy, it will be understood as (type, (1,)) / '(1,)type'.\n",
      "  np_resource = np.dtype([(\"resource\", np.ubyte, 1)])\n"
     ]
    }
   ],
   "source": [
    "%matplotlib inline\n",
    "\n",
    "import scipy.io as spio\n",
    "import scipy\n",
    "import matplotlib.pyplot as plt\n",
    "import numpy as np\n",
    "import h5py\n",
    "import imageio\n",
    "import cv2\n",
    "import keras\n",
    "from keras.utils.vis_utils import plot_model\n",
    "from keras.models import *\n",
    "from keras.layers import *\n",
    "from keras.optimizers import *\n",
    "from scipy.signal import hilbert\n",
    "from scipy.fftpack import *"
   ]
  },
  {
   "cell_type": "markdown",
   "metadata": {},
   "source": [
    "Load the data:"
   ]
  },
  {
   "cell_type": "code",
   "execution_count": 2,
   "metadata": {
    "ExecuteTime": {
     "end_time": "2020-05-28T01:55:56.166882Z",
     "start_time": "2020-05-28T01:55:31.029374Z"
    }
   },
   "outputs": [],
   "source": [
    "size_train=1300\n",
    "size_test=100\n",
    "size_valid=80\n",
    "length=384\n",
    "length_rf=length\n",
    "length_img=length\n",
    "rf_place = 'RF_1smpl_fixedfocus/Comp16/'\n",
    "img_place = 'Images_1smpl_fixedfocus/'\n",
    "trainRF=np.empty([size_train*128,length])\n",
    "trainIMG=np.empty([size_train*128,length])\n",
    "testRF=np.empty([size_test*128,length])\n",
    "testIMG=np.empty([size_test*128,length])\n",
    "validRF=np.empty([size_valid*128,length])\n",
    "validIMG=np.empty([size_valid*128,length])\n",
    "pulse = spio.loadmat('pulse.mat', squeeze_me=True)\n",
    "pulse = pulse['temp']\n",
    "for i in range(size_train):\n",
    "    trainRF_temp = spio.loadmat(rf_place+str(i+1)+'.mat', squeeze_me=True)\n",
    "    trainRF_temp = trainRF_temp['compressed']\n",
    "\n",
    "    for j in range(128):\n",
    "        trainRF[i*128+j,:]=trainRF_temp[:,j]\n",
    "    trainIMG_temp = spio.loadmat(img_place+str(i+1)+'.mat', squeeze_me=True)\n",
    "    trainIMG_temp = trainIMG_temp['imgData']\n",
    "\n",
    "    for j in range(128):\n",
    "        trainIMG[i*128+j,:]=trainIMG_temp[:,j]\n",
    "for i in range(size_test):\n",
    "    testRF_temp = spio.loadmat(rf_place+str(i+size_train+1)+'.mat', squeeze_me=True)\n",
    "    testRF_temp = testRF_temp['compressed']\n",
    "    for j in range(128):\n",
    "        testRF[i*128+j,:]=testRF_temp[:,j]\n",
    "    testIMG_temp = spio.loadmat(img_place+str(i+size_train+1)+'.mat', squeeze_me=True)\n",
    "    testIMG_temp = testIMG_temp['imgData']\n",
    "\n",
    "    for j in range(128):\n",
    "        testIMG[i*128+j,:]=testIMG_temp[:,j]\n",
    "for i in range(size_valid):\n",
    "    validRF_temp = spio.loadmat(rf_place+str(i+size_train+size_test+1)+'.mat', squeeze_me=True)\n",
    "    validRF_temp = validRF_temp['compressed']\n",
    "    for j in range(128):\n",
    "        validRF[i*128+j,:]=validRF_temp[:,j]\n",
    "    validIMG_temp = spio.loadmat(img_place+str(i+size_train+size_test+1)+'.mat', squeeze_me=True)\n",
    "    validIMG_temp = validIMG_temp['imgData']\n",
    "\n",
    "    for j in range(128):\n",
    "        validIMG[i*128+j,:]=validIMG_temp[:,j]"
   ]
  },
  {
   "cell_type": "markdown",
   "metadata": {},
   "source": [
    "Normalize the data. The RF data has been just scaled down, while the Image data gets fitted between 0 and 1. RF should not be fit between 0 and 1 because it is a wave signal and is expected to have negative values."
   ]
  },
  {
   "cell_type": "code",
   "execution_count": 3,
   "metadata": {
    "ExecuteTime": {
     "end_time": "2020-05-28T01:55:58.627187Z",
     "start_time": "2020-05-28T01:55:56.196179Z"
    }
   },
   "outputs": [],
   "source": [
    "trfmin=trainRF.min()\n",
    "timgmin=trainIMG.min()\n",
    "\n",
    "trfmax=np.absolute(trainRF.max())\n",
    "trainRF1=trainRF/trfmax\n",
    "trainIMG=trainIMG-timgmin\n",
    "timgmax=trainIMG.max()\n",
    "trainIMG1=trainIMG/timgmax\n",
    "\n",
    "testRF1=testRF/trfmax\n",
    "testIMG=testIMG-timgmin\n",
    "testIMG1=testIMG/timgmax\n",
    "\n",
    "validRF1=validRF/trfmax\n",
    "validIMG=validIMG-timgmin\n",
    "validIMG1=validIMG/timgmax"
   ]
  },
  {
   "cell_type": "markdown",
   "metadata": {},
   "source": [
    "Add a third dimension. This is needed because of the way that Conv1D layers work in keras."
   ]
  },
  {
   "cell_type": "code",
   "execution_count": 5,
   "metadata": {
    "ExecuteTime": {
     "end_time": "2020-05-28T01:56:01.976205Z",
     "start_time": "2020-05-28T01:55:59.657405Z"
    }
   },
   "outputs": [],
   "source": [
    "trainRF1=trainRF1.reshape(size_train*128,length,1)\n",
    "testRF1=testRF1.reshape(size_test*128,length,1)\n",
    "validRF1=validRF1.reshape(size_valid*128,length,1)"
   ]
  },
  {
   "cell_type": "markdown",
   "metadata": {},
   "source": [
    "Create a model."
   ]
  },
  {
   "cell_type": "code",
   "execution_count": null,
   "metadata": {
    "ExecuteTime": {
     "end_time": "2020-05-28T01:56:11.455778Z",
     "start_time": "2020-05-28T01:55:18.351Z"
    }
   },
   "outputs": [],
   "source": [
    "model = keras.Sequential()\n",
    "\n",
    "model.add(Conv1D(12, 7, padding = 'same', input_shape=(length,1)))\n",
    "model.add(LeakyReLU())\n",
    "\n",
    "model.add(Conv1D(16, 7, padding = 'same'))\n",
    "model.add(LeakyReLU())\n",
    "\n",
    "model.add(Conv1D(24, 7, padding = 'same'))\n",
    "model.add(LeakyReLU())\n",
    "\n",
    "model.add(Conv1D(48, 7, padding = 'same'))  #optimal results with 48 filters\n",
    "model.add(LeakyReLU())\n",
    "\n",
    "model.add(Flatten())\n",
    "\n",
    "model.add(Dense(length//2))\n",
    "model.add(LeakyReLU())\n",
    "\n",
    "model.add(Dense(length//2))\n",
    "model.add(LeakyReLU())\n",
    "\n",
    "model.add(Dense(length))\n",
    "\n",
    "model.add(Activation('relu'))\n",
    "\n",
    "\n",
    "model.summary()"
   ]
  },
  {
   "cell_type": "code",
   "execution_count": null,
   "metadata": {
    "ExecuteTime": {
     "end_time": "2020-05-28T01:56:11.456395Z",
     "start_time": "2020-05-28T01:55:18.354Z"
    }
   },
   "outputs": [],
   "source": [
    "opt = keras.optimizers.Adam(lr=1e-5)\n",
    "\n",
    "model.compile(optimizer = opt, loss = 'mean_squared_error')"
   ]
  },
  {
   "cell_type": "markdown",
   "metadata": {},
   "source": [
    "Finally, train the model:"
   ]
  },
  {
   "cell_type": "code",
   "execution_count": null,
   "metadata": {
    "ExecuteTime": {
     "end_time": "2020-05-28T01:56:11.456982Z",
     "start_time": "2020-05-28T01:55:18.357Z"
    }
   },
   "outputs": [],
   "source": [
    "history = model.fit(trainRF1, # Features\n",
    "                      trainIMG1, # Target vector\n",
    "                      epochs=2, # Number of epochs\n",
    "                      verbose=1, # Print description after each epoch\n",
    "                      batch_size=128, # Number of observations per batch\n",
    "                      validation_data=(testRF1, testIMG1)) # Data for evaluation\n",
    "\n",
    "score = model.evaluate(validRF1, validIMG1, batch_size=128)\n",
    "print('The score is ', score)"
   ]
  },
  {
   "cell_type": "markdown",
   "metadata": {},
   "source": [
    "Verification of the model. It is important to plot the resulting image as well."
   ]
  },
  {
   "cell_type": "code",
   "execution_count": null,
   "metadata": {
    "ExecuteTime": {
     "end_time": "2020-05-28T01:56:11.458058Z",
     "start_time": "2020-05-28T01:55:18.368Z"
    }
   },
   "outputs": [],
   "source": [
    "pp=model.predict(testRF1, verbose=1)"
   ]
  },
  {
   "cell_type": "code",
   "execution_count": null,
   "metadata": {
    "ExecuteTime": {
     "end_time": "2020-05-28T01:56:11.458796Z",
     "start_time": "2020-05-28T01:55:18.372Z"
    }
   },
   "outputs": [],
   "source": [
    "pic_no=3\n",
    "%pylab\n",
    "plt.imshow(pp[pic_no*128:(pic_no+1)*128,:].T)#, cmap=plt.cm.get_cmap('gray'))\n",
    "plt.figure()\n",
    "plt.imshow(testIMG1[pic_no*128:(pic_no+1)*128,:].T)#, cmap=plt.cm.get_cmap('gray'))\n",
    "print(np.mean(np.power(pp[pic_no*128:(pic_no+1)*128,:].T - trainIMG1[pic_no*128:(pic_no+1)*128,:].T, 2)))"
   ]
  },
  {
   "cell_type": "markdown",
   "metadata": {},
   "source": [
    "Optionally, the model can be saved:"
   ]
  },
  {
   "cell_type": "code",
   "execution_count": null,
   "metadata": {
    "ExecuteTime": {
     "end_time": "2020-05-28T01:56:11.461386Z",
     "start_time": "2020-05-28T01:55:18.377Z"
    }
   },
   "outputs": [],
   "source": [
    "model.save('rf2img_leakyrelu1')"
   ]
  }
 ],
 "metadata": {
  "kernelspec": {
   "display_name": "Python 3",
   "language": "python",
   "name": "python3"
  },
  "language_info": {
   "codemirror_mode": {
    "name": "ipython",
    "version": 3
   },
   "file_extension": ".py",
   "mimetype": "text/x-python",
   "name": "python",
   "nbconvert_exporter": "python",
   "pygments_lexer": "ipython3",
   "version": "3.6.9"
  },
  "varInspector": {
   "cols": {
    "lenName": 16,
    "lenType": 16,
    "lenVar": 40
   },
   "kernels_config": {
    "python": {
     "delete_cmd_postfix": "",
     "delete_cmd_prefix": "del ",
     "library": "var_list.py",
     "varRefreshCmd": "print(var_dic_list())"
    },
    "r": {
     "delete_cmd_postfix": ") ",
     "delete_cmd_prefix": "rm(",
     "library": "var_list.r",
     "varRefreshCmd": "cat(var_dic_list()) "
    }
   },
   "types_to_exclude": [
    "module",
    "function",
    "builtin_function_or_method",
    "instance",
    "_Feature"
   ],
   "window_display": false
  }
 },
 "nbformat": 4,
 "nbformat_minor": 2
}
